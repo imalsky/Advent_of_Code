{
 "cells": [
  {
   "cell_type": "code",
   "execution_count": 180,
   "id": "d88024f9",
   "metadata": {},
   "outputs": [
    {
     "name": "stdout",
     "output_type": "stream",
     "text": [
      "55614\n"
     ]
    }
   ],
   "source": [
    "# Import pandas library for data manipulation and analysis\n",
    "import pandas as pd\n",
    "\n",
    "# Read a text file into a pandas DataFrame, using whitespace as delimiter,\n",
    "# and naming the single column as 'strings'\n",
    "df = pd.read_csv('data.txt', delim_whitespace=True, names=['strings'])\n",
    "\n",
    "# Define a function to extract and convert specific values from a string\n",
    "def get_value(input_string):\n",
    "    # Initialize variables to hold the extracted words\n",
    "    left_word = ''\n",
    "    right_word = ''\n",
    "    \n",
    "    # Reverse the input string to facilitate right-side word extraction\n",
    "    reversed_string = input_string[::-1]\n",
    "\n",
    "    # Dictionary mapping words to their corresponding numerical strings\n",
    "    words_to_nums_dict = {'one':'1', 'two':'2', 'three':'3', 'four':'4', \n",
    "                          'five':'5', 'six':'6', 'seven':'7', 'eight':'8', \n",
    "                          'nine':'9', '1':'1', '2':'2', '3':'3', '4':'4', \n",
    "                          '5':'5', '6':'6', '7':'7', '8':'8', '9':'9'}\n",
    "    \n",
    "    # Extract the first valid word from the left of the string\n",
    "    for i in range(len(input_string) + 1):\n",
    "        for word in words_to_nums_dict:\n",
    "            if word in input_string[:i]:\n",
    "                left_word = words_to_nums_dict[word]\n",
    "                break\n",
    "        else:\n",
    "            continue  \n",
    "        break\n",
    "        \n",
    "    # Extract the first valid word from the right of the string\n",
    "    for i in range(len(reversed_string) + 1): \n",
    "        for word in words_to_nums_dict:    \n",
    "            if word[::-1] in reversed_string[:i]:\n",
    "                right_word = words_to_nums_dict[word]\n",
    "                break\n",
    "        else:\n",
    "            continue  \n",
    "        break\n",
    "    \n",
    "    # Return the concatenated result as an integer\n",
    "    return int(left_word + right_word)\n",
    "\n",
    "# Initialize a variable to accumulate the sum\n",
    "running_sum = 0\n",
    "for input_string in df.strings:\n",
    "    running_sum += get_value(input_string)\n",
    "\n",
    "print(running_sum)"
   ]
  },
  {
   "cell_type": "code",
   "execution_count": null,
   "id": "98a3933f",
   "metadata": {},
   "outputs": [],
   "source": []
  },
  {
   "cell_type": "code",
   "execution_count": null,
   "id": "1f59b1a4",
   "metadata": {},
   "outputs": [],
   "source": []
  },
  {
   "cell_type": "code",
   "execution_count": null,
   "id": "489a0e39",
   "metadata": {},
   "outputs": [],
   "source": []
  }
 ],
 "metadata": {
  "kernelspec": {
   "display_name": "Python 3 (ipykernel)",
   "language": "python",
   "name": "python3"
  },
  "language_info": {
   "codemirror_mode": {
    "name": "ipython",
    "version": 3
   },
   "file_extension": ".py",
   "mimetype": "text/x-python",
   "name": "python",
   "nbconvert_exporter": "python",
   "pygments_lexer": "ipython3",
   "version": "3.9.13"
  }
 },
 "nbformat": 4,
 "nbformat_minor": 5
}
