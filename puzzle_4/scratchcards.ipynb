{
 "cells": [
  {
   "cell_type": "code",
   "execution_count": 5,
   "id": "079a5efd",
   "metadata": {},
   "outputs": [],
   "source": [
    "import numpy as np\n",
    "from collections import defaultdict\n"
   ]
  },
  {
   "cell_type": "code",
   "execution_count": 6,
   "id": "2f4cf611",
   "metadata": {
    "scrolled": true
   },
   "outputs": [
    {
     "name": "stdout",
     "output_type": "stream",
     "text": [
      "22488\n"
     ]
    },
    {
     "ename": "NameError",
     "evalue": "name 'card_dict' is not defined",
     "output_type": "error",
     "traceback": [
      "\u001b[0;31m---------------------------------------------------------------------------\u001b[0m",
      "\u001b[0;31mNameError\u001b[0m                                 Traceback (most recent call last)",
      "Cell \u001b[0;32mIn[6], line 24\u001b[0m\n\u001b[1;32m     20\u001b[0m \u001b[38;5;28mprint\u001b[39m(total_winnings)\n\u001b[1;32m     23\u001b[0m N \u001b[38;5;241m=\u001b[39m defaultdict(\u001b[38;5;28mint\u001b[39m)\n\u001b[0;32m---> 24\u001b[0m \u001b[38;5;28;01mfor\u001b[39;00m key \u001b[38;5;129;01min\u001b[39;00m \u001b[43mcard_dict\u001b[49m:\n\u001b[1;32m     25\u001b[0m     N[key\u001b[38;5;241m-\u001b[39m\u001b[38;5;241m1\u001b[39m] \u001b[38;5;241m+\u001b[39m\u001b[38;5;241m=\u001b[39m \u001b[38;5;241m1\u001b[39m\n\u001b[1;32m     26\u001b[0m     \u001b[38;5;28;01mfor\u001b[39;00m j \u001b[38;5;129;01min\u001b[39;00m \u001b[38;5;28mrange\u001b[39m(\u001b[38;5;28mlen\u001b[39m(card_dict[key])):\n",
      "\u001b[0;31mNameError\u001b[0m: name 'card_dict' is not defined"
     ]
    }
   ],
   "source": [
    "# Reading the data from the file\n",
    "with open(\"data.txt\", 'r') as file:\n",
    "    lines = file.readlines()\n",
    "    \n",
    "total_winnings = 0\n",
    "for line in lines:\n",
    "    scratch_nums = [int(x) for x in line.split('|')[0].split(':')[1].split()]\n",
    "    card = int(line.split('|')[0].split(':')[0].split()[1])\n",
    "    card_nums = [int(x) for x in line.split('|')[1].split()]\n",
    "    winning_nums = [x for x in set(scratch_nums) - (set(scratch_nums) - set(card_nums))]\n",
    "    card_dict[card] = winning_nums\n",
    "    \n",
    "    if len(winning_nums) == 0:\n",
    "        amount_won = 0\n",
    "    else:\n",
    "        amount_won = 2 ** (len(winning_nums) - 1)\n",
    "        \n",
    "    total_winnings += amount_won\n",
    "\n",
    "    \n",
    "N = defaultdict(int)\n",
    "for key in card_dict:\n",
    "    N[key-1] += 1\n",
    "    for j in range(len(card_dict[key])):\n",
    "        N[key+j] += N[key-1]    \n",
    "    \n",
    "print(sum(N.values()))"
   ]
  },
  {
   "cell_type": "code",
   "execution_count": null,
   "id": "deaf801a",
   "metadata": {},
   "outputs": [],
   "source": []
  },
  {
   "cell_type": "code",
   "execution_count": null,
   "id": "e03a4622",
   "metadata": {},
   "outputs": [],
   "source": []
  },
  {
   "cell_type": "code",
   "execution_count": null,
   "id": "3499d7ff",
   "metadata": {},
   "outputs": [],
   "source": []
  },
  {
   "cell_type": "code",
   "execution_count": 8,
   "id": "ac3a1c39",
   "metadata": {},
   "outputs": [
    {
     "name": "stdout",
     "output_type": "stream",
     "text": [
      "7013204\n"
     ]
    }
   ],
   "source": [
    "\n"
   ]
  },
  {
   "cell_type": "code",
   "execution_count": null,
   "id": "736bf145",
   "metadata": {},
   "outputs": [],
   "source": []
  }
 ],
 "metadata": {
  "kernelspec": {
   "display_name": "Python 3 (ipykernel)",
   "language": "python",
   "name": "python3"
  },
  "language_info": {
   "codemirror_mode": {
    "name": "ipython",
    "version": 3
   },
   "file_extension": ".py",
   "mimetype": "text/x-python",
   "name": "python",
   "nbconvert_exporter": "python",
   "pygments_lexer": "ipython3",
   "version": "3.9.13"
  }
 },
 "nbformat": 4,
 "nbformat_minor": 5
}
