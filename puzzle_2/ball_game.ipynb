{
 "cells": [
  {
   "cell_type": "code",
   "execution_count": 91,
   "id": "e2930faf",
   "metadata": {},
   "outputs": [
    {
     "name": "stdout",
     "output_type": "stream",
     "text": [
      "2551\n",
      "62811\n"
     ]
    }
   ],
   "source": [
    "import numpy as np\n",
    "import pandas as pd\n",
    "\n",
    "\n",
    "def clean_game_string(input_string):\n",
    "    max_counts = {'green':0, 'blue':0, 'red':0}\n",
    "    \n",
    "    # Get the game number string and all the games from the input line\n",
    "    game_number_string, game_strings = input_string.split(':')\n",
    "    \n",
    "    \n",
    "    # Extract the game number as an integer\n",
    "    game_number = [int(x) for x in game_number_string.split() if x.isdigit()][0]\n",
    "    \n",
    "    game = []\n",
    "        \n",
    "    each_game = game_strings.split(';')\n",
    "    for game in each_game:\n",
    "        draws = game.split(',')\n",
    "        \n",
    "        for ball_draw in draws:\n",
    "            num, color = ball_draw.split()\n",
    "            num = int(num)\n",
    "            max_counts[color] = max(max_counts[color], num)\n",
    "        \n",
    "    return max_counts, game_number\n",
    "\n",
    "def check_game(bag, max_counts, game_number):\n",
    "    for color in max_counts:\n",
    "        if (max_counts[color] > bag[color]):\n",
    "            return 0\n",
    "    return game_number\n",
    "\n",
    "def get_power_set(max_counts, game_number):\n",
    "    power_set = 1\n",
    "    for color in max_counts:\n",
    "        power_set *= max_counts[color]\n",
    "    return power_set\n",
    "        \n",
    "bag = {'red':12, 'blue':14, 'green':13}\n",
    "\n",
    "sum_of_games = 0\n",
    "f = open('data.txt', 'r')\n",
    "for line in f:\n",
    "    max_counts, game_number = clean_game_string(line)\n",
    "    sum_of_games += check_game(bag, max_counts, game_number)   \n",
    "print(sum_of_games)\n",
    "\n",
    "sum_of_power_sets = 0\n",
    "f = open('data.txt', 'r')\n",
    "for line in f:\n",
    "    max_counts, game_number = clean_game_string(line)\n",
    "    sum_of_power_sets += get_power_set(max_counts, game_number) \n",
    "    \n",
    "print(sum_of_power_sets)"
   ]
  },
  {
   "cell_type": "code",
   "execution_count": 92,
   "id": "b7f5e4ed",
   "metadata": {},
   "outputs": [
    {
     "ename": "ValueError",
     "evalue": "invalid literal for int() with base 10: 'blue'",
     "output_type": "error",
     "traceback": [
      "\u001b[0;31m---------------------------------------------------------------------------\u001b[0m",
      "\u001b[0;31mValueError\u001b[0m                                Traceback (most recent call last)",
      "Cell \u001b[0;32mIn[92], line 60\u001b[0m\n\u001b[1;32m     58\u001b[0m \u001b[38;5;66;03m# Calculate sum of valid game numbers\u001b[39;00m\n\u001b[1;32m     59\u001b[0m \u001b[38;5;28;01mwith\u001b[39;00m \u001b[38;5;28mopen\u001b[39m(\u001b[38;5;124m'\u001b[39m\u001b[38;5;124mdata.txt\u001b[39m\u001b[38;5;124m'\u001b[39m, \u001b[38;5;124m'\u001b[39m\u001b[38;5;124mr\u001b[39m\u001b[38;5;124m'\u001b[39m) \u001b[38;5;28;01mas\u001b[39;00m file:\n\u001b[0;32m---> 60\u001b[0m     sum_of_games \u001b[38;5;241m=\u001b[39m \u001b[38;5;28;43msum\u001b[39;49m\u001b[43m(\u001b[49m\u001b[43mcheck_game\u001b[49m\u001b[43m(\u001b[49m\u001b[43mbag\u001b[49m\u001b[43m,\u001b[49m\u001b[43m \u001b[49m\u001b[38;5;241;43m*\u001b[39;49m\u001b[43mclean_game_string\u001b[49m\u001b[43m(\u001b[49m\u001b[43mline\u001b[49m\u001b[43m)\u001b[49m\u001b[43m)\u001b[49m\u001b[43m \u001b[49m\u001b[38;5;28;43;01mfor\u001b[39;49;00m\u001b[43m \u001b[49m\u001b[43mline\u001b[49m\u001b[43m \u001b[49m\u001b[38;5;129;43;01min\u001b[39;49;00m\u001b[43m \u001b[49m\u001b[43mfile\u001b[49m\u001b[43m)\u001b[49m\n\u001b[1;32m     61\u001b[0m \u001b[38;5;28mprint\u001b[39m(sum_of_games)\n\u001b[1;32m     63\u001b[0m \u001b[38;5;66;03m# Calculate sum of power sets\u001b[39;00m\n",
      "Cell \u001b[0;32mIn[92], line 60\u001b[0m, in \u001b[0;36m<genexpr>\u001b[0;34m(.0)\u001b[0m\n\u001b[1;32m     58\u001b[0m \u001b[38;5;66;03m# Calculate sum of valid game numbers\u001b[39;00m\n\u001b[1;32m     59\u001b[0m \u001b[38;5;28;01mwith\u001b[39;00m \u001b[38;5;28mopen\u001b[39m(\u001b[38;5;124m'\u001b[39m\u001b[38;5;124mdata.txt\u001b[39m\u001b[38;5;124m'\u001b[39m, \u001b[38;5;124m'\u001b[39m\u001b[38;5;124mr\u001b[39m\u001b[38;5;124m'\u001b[39m) \u001b[38;5;28;01mas\u001b[39;00m file:\n\u001b[0;32m---> 60\u001b[0m     sum_of_games \u001b[38;5;241m=\u001b[39m \u001b[38;5;28msum\u001b[39m(check_game(bag, \u001b[38;5;241m*\u001b[39m\u001b[43mclean_game_string\u001b[49m\u001b[43m(\u001b[49m\u001b[43mline\u001b[49m\u001b[43m)\u001b[49m) \u001b[38;5;28;01mfor\u001b[39;00m line \u001b[38;5;129;01min\u001b[39;00m file)\n\u001b[1;32m     61\u001b[0m \u001b[38;5;28mprint\u001b[39m(sum_of_games)\n\u001b[1;32m     63\u001b[0m \u001b[38;5;66;03m# Calculate sum of power sets\u001b[39;00m\n",
      "Cell \u001b[0;32mIn[92], line 23\u001b[0m, in \u001b[0;36mclean_game_string\u001b[0;34m(input_string)\u001b[0m\n\u001b[1;32m     21\u001b[0m \u001b[38;5;28;01mfor\u001b[39;00m game \u001b[38;5;129;01min\u001b[39;00m game_strings\u001b[38;5;241m.\u001b[39msplit(\u001b[38;5;124m'\u001b[39m\u001b[38;5;124m;\u001b[39m\u001b[38;5;124m'\u001b[39m):\n\u001b[1;32m     22\u001b[0m     \u001b[38;5;28;01mfor\u001b[39;00m ball_draw \u001b[38;5;129;01min\u001b[39;00m game\u001b[38;5;241m.\u001b[39msplit(\u001b[38;5;124m'\u001b[39m\u001b[38;5;124m,\u001b[39m\u001b[38;5;124m'\u001b[39m):\n\u001b[0;32m---> 23\u001b[0m         num, color \u001b[38;5;241m=\u001b[39m \u001b[38;5;28mmap\u001b[39m(\u001b[38;5;28mint\u001b[39m, ball_draw\u001b[38;5;241m.\u001b[39msplit())\n\u001b[1;32m     24\u001b[0m         max_counts[color] \u001b[38;5;241m=\u001b[39m \u001b[38;5;28mmax\u001b[39m(max_counts[color], num)\n\u001b[1;32m     26\u001b[0m \u001b[38;5;28;01mreturn\u001b[39;00m max_counts, game_number\n",
      "\u001b[0;31mValueError\u001b[0m: invalid literal for int() with base 10: 'blue'"
     ]
    }
   ],
   "source": [
    "import numpy as np\n",
    "import pandas as pd\n",
    "\n",
    "def clean_game_string(input_string):\n",
    "    \"\"\"\n",
    "    Processes an input string from a game, extracting maximum counts of colors and the game number.\n",
    "\n",
    "    Args:\n",
    "    input_string (str): A string containing game information.\n",
    "\n",
    "    Returns:\n",
    "    tuple: A tuple containing a dictionary of max color counts and the game number.\n",
    "    \"\"\"\n",
    "    max_counts = {'green': 0, 'blue': 0, 'red': 0}\n",
    "    \n",
    "    # Extract the game number and the individual game strings\n",
    "    game_number_string, game_strings = input_string.split(':')\n",
    "    game_number = next(int(x) for x in game_number_string.split() if x.isdigit())\n",
    "    \n",
    "    # Process each game string to update max_counts\n",
    "    for game in game_strings.split(';'):\n",
    "        for ball_draw in game.split(','):\n",
    "            num, color = map(int, ball_draw.split())\n",
    "            max_counts[color] = max(max_counts[color], num)\n",
    "        \n",
    "    return max_counts, game_number\n",
    "\n",
    "def check_game(bag, max_counts, game_number):\n",
    "    \"\"\"\n",
    "    Checks if the game is valid based on the bag's capacity.\n",
    "\n",
    "    Args:\n",
    "    bag (dict): A dictionary with color as key and quantity as value.\n",
    "    max_counts (dict): A dictionary with color as key and max count as value.\n",
    "    game_number (int): The game number.\n",
    "\n",
    "    Returns:\n",
    "    int: Game number if valid, else 0.\n",
    "    \"\"\"\n",
    "    return game_number if all(max_counts[color] <= bag[color] for color in max_counts) else 0\n",
    "\n",
    "def get_power_set(max_counts, game_number):\n",
    "    \"\"\"\n",
    "    Calculates the power set value based on max_counts.\n",
    "\n",
    "    Args:\n",
    "    max_counts (dict): A dictionary with color as key and max count as value.\n",
    "    game_number (int): The game number.\n",
    "\n",
    "    Returns:\n",
    "    int: The calculated power set value.\n",
    "    \"\"\"\n",
    "    return np.prod(list(max_counts.values()))\n",
    "\n",
    "# Main execution\n",
    "bag = {'red': 12, 'blue': 14, 'green': 13}\n",
    "\n",
    "# Calculate sum of valid game numbers\n",
    "with open('data.txt', 'r') as file:\n",
    "    sum_of_games = sum(check_game(bag, *clean_game_string(line)) for line in file)\n",
    "print(sum_of_games)\n",
    "\n",
    "# Calculate sum of power sets\n",
    "with open('data.txt', 'r') as file:\n",
    "    sum_of_power_sets = sum(get_power_set(*clean_game_string(line)) for line in file)\n",
    "print(sum_of_power_sets)\n"
   ]
  },
  {
   "cell_type": "code",
   "execution_count": 90,
   "id": "307f0d1f",
   "metadata": {
    "scrolled": true
   },
   "outputs": [
    {
     "name": "stdout",
     "output_type": "stream",
     "text": [
      "2551\n",
      "62811\n"
     ]
    }
   ],
   "source": []
  },
  {
   "cell_type": "code",
   "execution_count": null,
   "id": "e0ee6f51",
   "metadata": {},
   "outputs": [],
   "source": []
  },
  {
   "cell_type": "code",
   "execution_count": null,
   "id": "c698665f",
   "metadata": {},
   "outputs": [],
   "source": []
  }
 ],
 "metadata": {
  "kernelspec": {
   "display_name": "Python 3 (ipykernel)",
   "language": "python",
   "name": "python3"
  },
  "language_info": {
   "codemirror_mode": {
    "name": "ipython",
    "version": 3
   },
   "file_extension": ".py",
   "mimetype": "text/x-python",
   "name": "python",
   "nbconvert_exporter": "python",
   "pygments_lexer": "ipython3",
   "version": "3.9.13"
  }
 },
 "nbformat": 4,
 "nbformat_minor": 5
}
