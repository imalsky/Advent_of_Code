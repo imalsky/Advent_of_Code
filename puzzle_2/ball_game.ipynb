{
 "cells": [
  {
   "cell_type": "code",
   "execution_count": 94,
   "id": "2f750327",
   "metadata": {},
   "outputs": [
    {
     "name": "stdout",
     "output_type": "stream",
     "text": [
      "2551\n",
      "62811\n"
     ]
    }
   ],
   "source": [
    "import numpy as np\n",
    "import pandas as pd\n",
    "\n",
    "def clean_game_string(input_string):\n",
    "    \"\"\"\n",
    "    Processes an input string from a game, extracting maximum counts of colors and the game number.\n",
    "\n",
    "    Args:\n",
    "    input_string (str): A string containing game information.\n",
    "\n",
    "    Returns:\n",
    "    tuple: A tuple containing a dictionary of max color counts and the game number.\n",
    "    \"\"\"\n",
    "    max_counts = {'green': 0, 'blue': 0, 'red': 0}\n",
    "    \n",
    "    game_number_string, game_strings = input_string.split(':')\n",
    "    game_number = next(int(x) for x in game_number_string.split() if x.isdigit())\n",
    "    \n",
    "    for game in game_strings.split(';'):\n",
    "        for ball_draw in game.split(','):\n",
    "            num_str, color = ball_draw.split()\n",
    "            num = int(num_str)\n",
    "            max_counts[color] = max(max_counts[color], num)\n",
    "        \n",
    "    return max_counts, game_number\n",
    "\n",
    "def check_game(bag, max_counts, game_number):\n",
    "    \"\"\"\n",
    "    Checks if the game is valid based on the bag's capacity.\n",
    "\n",
    "    Args:\n",
    "    bag (dict): A dictionary with color as key and quantity as value.\n",
    "    max_counts (dict): A dictionary with color as key and max count as value.\n",
    "    game_number (int): The game number.\n",
    "\n",
    "    Returns:\n",
    "    int: Game number if valid, else 0.\n",
    "    \"\"\"\n",
    "    return game_number if all(max_counts[color] <= bag[color] for color in max_counts) else 0\n",
    "\n",
    "def get_power_set(max_counts, game_number):\n",
    "    \"\"\"\n",
    "    Calculates the power set value based on max_counts.\n",
    "\n",
    "    Args:\n",
    "    max_counts (dict): A dictionary with color as key and max count as value.\n",
    "    game_number (int): The game number.\n",
    "\n",
    "    Returns:\n",
    "    int: The calculated power set value.\n",
    "    \"\"\"\n",
    "    return np.prod(list(max_counts.values()))\n",
    "\n",
    "# Main execution\n",
    "bag = {'red': 12, 'blue': 14, 'green': 13}\n",
    "\n",
    "with open('data.txt', 'r') as file:\n",
    "    sum_of_games = sum(check_game(bag, *clean_game_string(line)) for line in file)\n",
    "print(sum_of_games)\n",
    "\n",
    "with open('data.txt', 'r') as file:\n",
    "    sum_of_power_sets = sum(get_power_set(*clean_game_string(line)) for line in file)\n",
    "print(sum_of_power_sets)\n"
   ]
  },
  {
   "cell_type": "code",
   "execution_count": null,
   "id": "427f0e2b",
   "metadata": {
    "scrolled": true
   },
   "outputs": [],
   "source": []
  },
  {
   "cell_type": "code",
   "execution_count": null,
   "id": "cced1b6e",
   "metadata": {
    "scrolled": true
   },
   "outputs": [],
   "source": []
  },
  {
   "cell_type": "code",
   "execution_count": null,
   "id": "446f4278",
   "metadata": {},
   "outputs": [],
   "source": []
  },
  {
   "cell_type": "code",
   "execution_count": null,
   "id": "bd9db0ec",
   "metadata": {},
   "outputs": [],
   "source": []
  }
 ],
 "metadata": {
  "kernelspec": {
   "display_name": "Python 3 (ipykernel)",
   "language": "python",
   "name": "python3"
  },
  "language_info": {
   "codemirror_mode": {
    "name": "ipython",
    "version": 3
   },
   "file_extension": ".py",
   "mimetype": "text/x-python",
   "name": "python",
   "nbconvert_exporter": "python",
   "pygments_lexer": "ipython3",
   "version": "3.9.13"
  }
 },
 "nbformat": 4,
 "nbformat_minor": 5
}
