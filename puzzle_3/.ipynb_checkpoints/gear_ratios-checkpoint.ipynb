{
 "cells": [
  {
   "cell_type": "code",
   "execution_count": 6,
   "id": "b1522a8e",
   "metadata": {},
   "outputs": [
    {
     "name": "stdout",
     "output_type": "stream",
     "text": [
      "Part A solution: 532428\n",
      "Part B solution: 84051670\n"
     ]
    }
   ],
   "source": [
    "def find_number_in_line(line, start_index):\n",
    "    \"\"\"\n",
    "    Finds the complete number in a line starting from the start_index,\n",
    "    extending left and right until a non-digit character is encountered.\n",
    "    \"\"\"\n",
    "    number = ''\n",
    "\n",
    "    # Combine digits to the left of the start_index\n",
    "    left_index = start_index\n",
    "    while left_index >= 0 and line[left_index].isdigit():\n",
    "        number = line[left_index] + number\n",
    "        left_index -= 1\n",
    "\n",
    "    # Combine digits to the right of the start_index\n",
    "    right_index = start_index + 1\n",
    "    while right_index < len(line) and line[right_index].isdigit():\n",
    "        number += line[right_index]\n",
    "        right_index += 1\n",
    "\n",
    "    return int(number) if number else None\n",
    "\n",
    "def find_special_characters(lines):\n",
    "    \"\"\"\n",
    "    Returns a set of characters in lines that are not digits or '.'.\n",
    "    \"\"\"\n",
    "    return {char for line in lines for char in line.strip() if not char.isdigit() and char != '.'}\n",
    "\n",
    "def find_numbers_around(lines, i, j, m, n, neighbor_offsets):\n",
    "    \"\"\"\n",
    "    Finds and returns a set of numbers around the special character at position (i, j).\n",
    "    \"\"\"\n",
    "    numbers_around = set()\n",
    "    for di, dj in neighbor_offsets:\n",
    "        if 0 <= i + di < m and 0 <= j + dj < n:\n",
    "            neighbor = lines[i + di][j + dj]\n",
    "            if neighbor.isdigit():\n",
    "                number = find_number_in_line(lines[i + di], j + dj)\n",
    "                if number is not None:\n",
    "                    numbers_around.add(number)\n",
    "    return numbers_around\n",
    "\n",
    "def find_neighbors(lines, special_characters):\n",
    "    \"\"\"\n",
    "    Finds and returns a dictionary mapping the coordinates of special characters\n",
    "    to a list of numbers found in the neighboring cells.\n",
    "    \"\"\"\n",
    "    neighbors_dict = {}\n",
    "    m, n = len(lines), len(lines[0].strip())\n",
    "    neighbor_offsets = [(di, dj) for di in range(-1, 2) for dj in range(-1, 2) if not (di == 0 and dj == 0)]\n",
    "\n",
    "    for i, line in enumerate(lines):\n",
    "        for j, char in enumerate(line.strip()):\n",
    "            if char in special_characters:\n",
    "                numbers_around = find_numbers_around(lines, i, j, m, n, neighbor_offsets)\n",
    "                if numbers_around:\n",
    "                    neighbors_dict[(i, j)] = list(numbers_around)\n",
    "    return neighbors_dict\n",
    "\n",
    "\n",
    "# Reading the data from the file\n",
    "with open(\"data.txt\", 'r') as file:\n",
    "    lines = file.readlines()\n",
    "\n",
    "special_characters = find_special_characters(lines)\n",
    "neighbors_dict = find_neighbors(lines, special_characters)\n",
    "\n",
    "# Calculating the running sum and product for the found numbers\n",
    "running_sum = sum(sum(values) for values in neighbors_dict.values())\n",
    "print('Part A solution:', running_sum)\n",
    "\n",
    "running_product = sum(v[0] * v[1] for v in neighbors_dict.values() if len(v) == 2)\n",
    "print('Part B solution:', running_product)\n"
   ]
  },
  {
   "cell_type": "code",
   "execution_count": null,
   "id": "b8be4c3c",
   "metadata": {},
   "outputs": [],
   "source": []
  },
  {
   "cell_type": "code",
   "execution_count": null,
   "id": "02888ac4",
   "metadata": {
    "scrolled": false
   },
   "outputs": [],
   "source": []
  },
  {
   "cell_type": "code",
   "execution_count": null,
   "id": "e6413a9d",
   "metadata": {
    "scrolled": false
   },
   "outputs": [],
   "source": []
  },
  {
   "cell_type": "code",
   "execution_count": null,
   "id": "c19e6617",
   "metadata": {},
   "outputs": [],
   "source": []
  },
  {
   "cell_type": "code",
   "execution_count": null,
   "id": "ff220ef2",
   "metadata": {
    "scrolled": false
   },
   "outputs": [],
   "source": []
  },
  {
   "cell_type": "code",
   "execution_count": null,
   "id": "354e8463",
   "metadata": {},
   "outputs": [],
   "source": []
  }
 ],
 "metadata": {
  "kernelspec": {
   "display_name": "Python 3 (ipykernel)",
   "language": "python",
   "name": "python3"
  },
  "language_info": {
   "codemirror_mode": {
    "name": "ipython",
    "version": 3
   },
   "file_extension": ".py",
   "mimetype": "text/x-python",
   "name": "python",
   "nbconvert_exporter": "python",
   "pygments_lexer": "ipython3",
   "version": "3.9.13"
  }
 },
 "nbformat": 4,
 "nbformat_minor": 5
}
